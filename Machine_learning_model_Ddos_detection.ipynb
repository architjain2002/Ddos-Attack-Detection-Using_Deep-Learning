{
 "cells": [
  {
   "cell_type": "code",
   "execution_count": 1,
   "metadata": {},
   "outputs": [],
   "source": [
    "import tensorflow as tf\n",
    "import numpy as np\n",
    "import pandas as pd"
   ]
  },
  {
   "cell_type": "code",
   "execution_count": 2,
   "metadata": {},
   "outputs": [
    {
     "data": {
      "text/plain": [
       "[PhysicalDevice(name='/physical_device:GPU:0', device_type='GPU')]"
      ]
     },
     "execution_count": 2,
     "metadata": {},
     "output_type": "execute_result"
    }
   ],
   "source": [
    "tf.config.list_physical_devices('GPU')"
   ]
  },
  {
   "cell_type": "code",
   "execution_count": 3,
   "metadata": {},
   "outputs": [
    {
     "data": {
      "text/plain": [
       "True"
      ]
     },
     "execution_count": 3,
     "metadata": {},
     "output_type": "execute_result"
    }
   ],
   "source": [
    "tf.test.is_built_with_cuda()"
   ]
  },
  {
   "cell_type": "code",
   "execution_count": 4,
   "metadata": {},
   "outputs": [],
   "source": [
    "dataset = pd.read_csv(\"./MachineLearningCVE/Friday-WorkingHours-Afternoon-DDos.pcap_ISCX.csv\")\n",
    "feature_list = dataset.columns.values"
   ]
  },
  {
   "cell_type": "code",
   "execution_count": 5,
   "metadata": {},
   "outputs": [],
   "source": [
    "dataset.shape  \n",
    "dataset = dataset.replace(np.inf,np.nan)    # replacing inf with nan\n",
    "dataset = dataset.fillna(dataset.mean(numeric_only=True)) # ghen converting nan to mean values"
   ]
  },
  {
   "cell_type": "code",
   "execution_count": 6,
   "metadata": {},
   "outputs": [
    {
     "name": "stdout",
     "output_type": "stream",
     "text": [
      "shape of X (225745, 78)\n",
      "shape of Y (225745,)\n"
     ]
    }
   ],
   "source": [
    "X = dataset.iloc[:,:-1].values\n",
    "print(\"shape of X\",X.shape)\n",
    "\n",
    "Y = dataset.iloc[:,-1].values\n",
    "print(\"shape of Y\",Y.shape)"
   ]
  },
  {
   "cell_type": "code",
   "execution_count": 7,
   "metadata": {},
   "outputs": [
    {
     "name": "stdout",
     "output_type": "stream",
     "text": [
      "is NaN present: False\n",
      "is inf present: False\n"
     ]
    }
   ],
   "source": [
    "print(\"is NaN present:\",np.any(np.isnan(X)))  # to check whether the array contains nan\n",
    "print(\"is inf present:\",np.any(np.isinf(X)))  # to check whether the array contains inf\n",
    "X[X < 0] = 0   # to replace all negative values with zeros"
   ]
  },
  {
   "cell_type": "code",
   "execution_count": 8,
   "metadata": {},
   "outputs": [],
   "source": [
    "from sklearn.feature_selection import SelectKBest  # feature selection\n",
    "from sklearn.feature_selection import chi2\n",
    "from sklearn.feature_selection import mutual_info_classif"
   ]
  },
  {
   "cell_type": "code",
   "execution_count": 9,
   "metadata": {},
   "outputs": [
    {
     "name": "stdout",
     "output_type": "stream",
     "text": [
      "                Selected_columns  Score_chi2\n",
      "4    Total Length of Fwd Packets    0.651850\n",
      "63             Subflow Fwd Bytes    0.651391\n",
      "52           Average Packet Size    0.563188\n",
      "65             Subflow Bwd Bytes    0.549162\n",
      "5    Total Length of Bwd Packets    0.548792\n",
      "12        Bwd Packet Length Mean    0.544830\n",
      "54          Avg Bwd Segment Size    0.544725\n",
      "55           Fwd Header Length.1    0.543534\n",
      "34             Fwd Header Length    0.543255\n",
      "0               Destination Port    0.537737\n",
      "10         Bwd Packet Length Max    0.529677\n",
      "66        Init_Win_bytes_forward    0.498712\n",
      "8         Fwd Packet Length Mean    0.489277\n",
      "53          Avg Fwd Segment Size    0.488979\n",
      "6          Fwd Packet Length Max    0.486598\n",
      "35             Bwd Header Length    0.476373\n",
      "23                   Fwd IAT Max    0.460222\n",
      "20                 Fwd IAT Total    0.457513\n",
      "21                  Fwd IAT Mean    0.446819\n",
      "62           Subflow Fwd Packets    0.410248\n",
      "2              Total Fwd Packets    0.410178\n",
      "22                   Fwd IAT Std    0.405857\n",
      "68              act_data_pkt_fwd    0.400144\n",
      "40            Packet Length Mean    0.396025\n",
      "42        Packet Length Variance    0.369077\n",
      "41             Packet Length Std    0.368089\n",
      "28                   Bwd IAT Max    0.355536\n",
      "25                 Bwd IAT Total    0.352232\n",
      "67       Init_Win_bytes_backward    0.350046\n",
      "9          Fwd Packet Length Std    0.349229\n",
      "13         Bwd Packet Length Std    0.348354\n",
      "37                 Bwd Packets/s    0.341559\n",
      "26                  Bwd IAT Mean    0.331189\n",
      "64           Subflow Bwd Packets    0.329075\n",
      "3         Total Backward Packets    0.328783\n",
      "36                 Fwd Packets/s    0.323964\n",
      "39             Max Packet Length    0.299527\n",
      "1                  Flow Duration    0.296290\n",
      "14                  Flow Bytes/s    0.293330\n",
      "11         Bwd Packet Length Min    0.273122\n",
      "18                  Flow IAT Max    0.252761\n",
      "17                  Flow IAT Std    0.251699\n",
      "15                Flow Packets/s    0.247946\n",
      "16                 Flow IAT Mean    0.241650\n",
      "27                   Bwd IAT Std    0.239166\n",
      "73                    Active Min    0.181936\n",
      "29                   Bwd IAT Min    0.178901\n",
      "70                   Active Mean    0.178091\n",
      "72                    Active Max    0.171699\n",
      "24                   Fwd IAT Min    0.161400\n"
     ]
    }
   ],
   "source": [
    "bestfeatures = SelectKBest(score_func = mutual_info_classif, k=50)\n",
    "fit = bestfeatures.fit(X,Y)\n",
    "#create df for scores\n",
    "dfscores = pd.DataFrame(fit.scores_)\n",
    "#create df for column names\n",
    "dfcolumns = pd.DataFrame(feature_list)\n",
    "\n",
    "#concat two dataframes for better visualization \n",
    "featureScores = pd.concat([dfcolumns,dfscores],axis=1)\n",
    "#naming the dataframe columns\n",
    "featureScores.columns = ['Selected_columns','Score_chi2'] \n",
    "#print 50 best features\n",
    "print(featureScores.nlargest(50,'Score_chi2')) "
   ]
  }
 ],
 "metadata": {
  "kernelspec": {
   "display_name": "Python 3.8.10 64-bit",
   "language": "python",
   "name": "python3"
  },
  "language_info": {
   "codemirror_mode": {
    "name": "ipython",
    "version": 3
   },
   "file_extension": ".py",
   "mimetype": "text/x-python",
   "name": "python",
   "nbconvert_exporter": "python",
   "pygments_lexer": "ipython3",
   "version": "3.8.10"
  },
  "orig_nbformat": 4,
  "vscode": {
   "interpreter": {
    "hash": "d63a252d2e56e2221730629e17258d19c2d81c88b56f94c769864d195f781b56"
   }
  }
 },
 "nbformat": 4,
 "nbformat_minor": 2
}
